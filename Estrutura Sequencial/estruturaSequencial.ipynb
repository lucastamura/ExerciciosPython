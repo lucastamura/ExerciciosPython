{
 "cells": [
  {
   "attachments": {},
   "cell_type": "markdown",
   "metadata": {},
   "source": [
    "# Estrutura Sequêncial\n",
    "### https://wiki.python.org.br/EstruturaSequencial"
   ]
  },
  {
   "attachments": {},
   "cell_type": "markdown",
   "metadata": {},
   "source": [
    "1 - Faça um Programa que mostre a mensagem \"Alo mundo\" na tela."
   ]
  },
  {
   "cell_type": "code",
   "execution_count": 1,
   "metadata": {},
   "outputs": [
    {
     "name": "stdout",
     "output_type": "stream",
     "text": [
      "Hello World\n"
     ]
    }
   ],
   "source": [
    "print(\"Hello World\")"
   ]
  },
  {
   "attachments": {},
   "cell_type": "markdown",
   "metadata": {},
   "source": [
    "2 - Faça um Programa que peça um número e então mostre a mensagem O número informado foi [número]."
   ]
  },
  {
   "cell_type": "code",
   "execution_count": 3,
   "metadata": {},
   "outputs": [
    {
     "name": "stdout",
     "output_type": "stream",
     "text": [
      "O número digitado foi: 5\n"
     ]
    }
   ],
   "source": [
    "num = int(input(\"Digite um número...: \"))\n",
    "\n",
    "print(\"O número digitado foi:\", num)"
   ]
  },
  {
   "attachments": {},
   "cell_type": "markdown",
   "metadata": {},
   "source": [
    "3 - Faça um Programa que peça dois números e imprima a soma."
   ]
  },
  {
   "cell_type": "code",
   "execution_count": 4,
   "metadata": {},
   "outputs": [
    {
     "name": "stdout",
     "output_type": "stream",
     "text": [
      "O resutlado da soma de  5  +  10  =  15\n"
     ]
    }
   ],
   "source": [
    "num1 = int(input(\"Digite o primeiro número...: \"))\n",
    "num2 = int(input(\"Digite o segundo número...: \"))\n",
    "\n",
    "resultado = num1 + num2\n",
    "\n",
    "print(\"O resutlado da soma de \", num1, \" + \", num2, \" = \", resultado)"
   ]
  },
  {
   "attachments": {},
   "cell_type": "markdown",
   "metadata": {},
   "source": [
    "4 - Faça um Programa que peça as 4 notas bimestrais e mostre a média."
   ]
  },
  {
   "cell_type": "code",
   "execution_count": 6,
   "metadata": {},
   "outputs": [
    {
     "name": "stdout",
     "output_type": "stream",
     "text": [
      "Calculadora de médias \n",
      " Digite as 4 notas do bimestre\n",
      "A média do bimestre foi de:  6.75\n"
     ]
    }
   ],
   "source": [
    "print (\"Calculadora de médias \\n Digite as 4 notas do bimestre\")\n",
    "\n",
    "n1 = float(input(\"1º Nota: \"))\n",
    "n2 = float(input(\"2º Nota: \"))\n",
    "n3 = float(input(\"3º Nota: \"))\n",
    "n4 = float(input(\"4º Nota: \"))\n",
    "\n",
    "media = (n1 + n2 + n3 + n4)/4\n",
    "\n",
    "print(\"A média do bimestre foi de: \", media)\n"
   ]
  },
  {
   "attachments": {},
   "cell_type": "markdown",
   "metadata": {},
   "source": [
    "5 - Faça um Programa que converta metros para centímetros."
   ]
  },
  {
   "cell_type": "code",
   "execution_count": 7,
   "metadata": {},
   "outputs": [
    {
     "name": "stdout",
     "output_type": "stream",
     "text": [
      "Conversor de medidas\n",
      "6.0 metros são 0.06 centimentos\n"
     ]
    }
   ],
   "source": [
    "print(\"Conversor de medidas\")\n",
    "\n",
    "m = float(input(\"Digite um valor em metros..: \"))\n",
    "\n",
    "cm = m/100\n",
    "\n",
    "print(m, \"metros são\", cm, \"centimentos\")"
   ]
  },
  {
   "attachments": {},
   "cell_type": "markdown",
   "metadata": {},
   "source": [
    "6 - Faça um Programa que peça o raio de um círculo, calcule e mostre sua área."
   ]
  },
  {
   "cell_type": "code",
   "execution_count": 10,
   "metadata": {},
   "outputs": [
    {
     "name": "stdout",
     "output_type": "stream",
     "text": [
      "Calculadora da área de um círculo\n",
      "A área desse circulo é:  314.15000000000003\n"
     ]
    }
   ],
   "source": [
    "print(\"Calculadora da área de um círculo\")\n",
    "\n",
    "a = float(input(\"Digite o raio do circulo\"))\n",
    "\n",
    "pi = 3.1415\n",
    "area =  pi * a ** 2\n",
    "\n",
    "print(\"A área desse circulo é: \",  area)"
   ]
  },
  {
   "attachments": {},
   "cell_type": "markdown",
   "metadata": {},
   "source": [
    "7 - Faça um Programa que calcule a área de um quadrado, em seguida mostre o dobro desta área para o usuário."
   ]
  },
  {
   "cell_type": "code",
   "execution_count": 11,
   "metadata": {},
   "outputs": [
    {
     "name": "stdout",
     "output_type": "stream",
     "text": [
      "Calculadora da área de um quadrado\n",
      "A área desse quadrado é  100.0  e o dobro dessa área é  200.0\n"
     ]
    }
   ],
   "source": [
    "print(\"Calculadora da área de um quadrado\")\n",
    "\n",
    "aresta = float(input(\"Digite o valor da aresta do quadrado: \"))\n",
    "\n",
    "area = aresta * aresta\n",
    "\n",
    "dobro = area * 2\n",
    "\n",
    "print(\"A área desse quadrado é \", area, \" e o dobro dessa área é \", dobro)"
   ]
  },
  {
   "attachments": {},
   "cell_type": "markdown",
   "metadata": {},
   "source": [
    "8 - Faça um Programa que pergunte quanto você ganha por hora e o número de horas trabalhadas no mês. Calcule e mostre o total do seu salário no referido mês."
   ]
  },
  {
   "cell_type": "code",
   "execution_count": 12,
   "metadata": {},
   "outputs": [
    {
     "name": "stdout",
     "output_type": "stream",
     "text": [
      "Calculadora de salário\n",
      "Seu salário sera de R$ 9432.0\n"
     ]
    }
   ],
   "source": [
    "print(\"Calculadora de salário\")\n",
    "\n",
    "valorHr = float(input(\"Quanto você ganha por hora?  R$\"))\n",
    "quantHr = float(input(\"Quantas horas trabalhou nesse mês? \"))\n",
    "\n",
    "salario = valorHr * quantHr\n",
    "\n",
    "print(\"Seu salário sera de R$\",salario)"
   ]
  },
  {
   "attachments": {},
   "cell_type": "markdown",
   "metadata": {},
   "source": [
    "9 - Faça um Programa que peça a temperatura em graus Fahrenheit, transforme e mostre a temperatura em graus Celsius.\n",
    "\n",
    "\n",
    "C = 5 * ((F-32) / 9)."
   ]
  },
  {
   "cell_type": "code",
   "execution_count": 14,
   "metadata": {},
   "outputs": [
    {
     "name": "stdout",
     "output_type": "stream",
     "text": [
      "Conversor de Temperatura\n",
      "74.0 Fº =  23.333333333333336 Cº\n"
     ]
    }
   ],
   "source": [
    "print(\"Conversor de Temperatura\")\n",
    "\n",
    "tempF = float(input(\"Digite a temperatura em Fº: \"))\n",
    "\n",
    "tempC = 5 * ((tempF - 32) / 9)\n",
    "\n",
    "print(tempF, \"Fº = \",tempC, \"Cº\")"
   ]
  },
  {
   "attachments": {},
   "cell_type": "markdown",
   "metadata": {},
   "source": [
    "10 - Faça um Programa que peça a temperatura em graus Celsius, transforme e mostre em graus Fahrenheit."
   ]
  },
  {
   "cell_type": "code",
   "execution_count": 15,
   "metadata": {},
   "outputs": [
    {
     "name": "stdout",
     "output_type": "stream",
     "text": [
      "Conversor de Temperatura\n",
      "23.3 Cº =  73.94 Fº\n"
     ]
    }
   ],
   "source": [
    "print(\"Conversor de Temperatura\")\n",
    "\n",
    "tempC = float(input(\"Digite a temperatura em Cº: \"))\n",
    "\n",
    "tempF = (tempC * 1.8) + 32\n",
    "\n",
    "print(tempC, \"Cº = \",tempF, \"Fº\")"
   ]
  },
  {
   "attachments": {},
   "cell_type": "markdown",
   "metadata": {},
   "source": [
    "Faça um Programa que peça 2 números inteiros e um número real. Calcule e mostre:\n",
    "\n",
    "\n",
    "a) o produto do dobro do primeiro com metade do segundo .\n",
    "\n",
    "b) a soma do triplo do primeiro com o terceiro.\n",
    "\n",
    "c) o terceiro elevado ao cubo."
   ]
  },
  {
   "cell_type": "code",
   "execution_count": 16,
   "metadata": {},
   "outputs": [
    {
     "name": "stdout",
     "output_type": "stream",
     "text": [
      "a)  30.0\n",
      "b)  95.0\n",
      "c)  27000.0\n"
     ]
    }
   ],
   "source": [
    "#a)\n",
    "num1 = int(input(\"Digite um número: \"))\n",
    "num2 = int(input(\"Digite um número: \"))\n",
    "\n",
    "a = (num1 * 2) * (num2 / 2)\n",
    "b = num1 + (a*3)\n",
    "c = a ** 3\n",
    "\n",
    "print(\"a) \", a)\n",
    "print(\"b) \", b)\n",
    "print(\"c) \", c)"
   ]
  },
  {
   "attachments": {},
   "cell_type": "markdown",
   "metadata": {},
   "source": [
    "12 - Tendo como dados de entrada a altura de uma pessoa, construa um algoritmo que calcule seu peso ideal, usando a seguinte fórmula: \n",
    "\n",
    "(72.7*altura) - 58"
   ]
  },
  {
   "cell_type": "code",
   "execution_count": 19,
   "metadata": {},
   "outputs": [
    {
     "name": "stdout",
     "output_type": "stream",
     "text": [
      "Calculadora de IMC\n",
      "Seu peso ideal é de  76.495 kg\n"
     ]
    }
   ],
   "source": [
    "print(\"Calculadora de IMC\")\n",
    "\n",
    "h = float(input(\"Digite a sua altura: \"))\n",
    "\n",
    "imc = 72.7 * h - 58\n",
    "\n",
    "print(\"Seu peso ideal é de \", imc, \"kg\")"
   ]
  },
  {
   "attachments": {},
   "cell_type": "markdown",
   "metadata": {},
   "source": [
    "13 - Tendo como dado de entrada a altura (h) de uma pessoa, construa um algoritmo que calcule seu peso ideal, utilizando as seguintes fórmulas:\n",
    "\n",
    "Para homens: (72.7*h) - 58\n",
    "\n",
    "Para mulheres: (62.1*h) - 44.7"
   ]
  },
  {
   "cell_type": "code",
   "execution_count": 22,
   "metadata": {},
   "outputs": [
    {
     "name": "stdout",
     "output_type": "stream",
     "text": [
      "Calculadora de IMC\n",
      "Seu peso ideal é de  70.185 kg\n"
     ]
    }
   ],
   "source": [
    "print(\"Calculadora de IMC\")\n",
    "\n",
    "s = str(input(\"Selecione o sexo (Feminino ou Masculino) [F, M]\"))\n",
    "\n",
    "if s.upper() == \"F\":\n",
    "    h = float(input(\"Digite a sua altura: \"))\n",
    "\n",
    "    imc = 62.1 * h - 44.7\n",
    "\n",
    "    print(\"Seu peso ideal é de \", imc, \"kg\")\n",
    "elif s.upper() == \"M\":\n",
    "    h = float(input(\"Digite a sua altura: \"))\n",
    "\n",
    "    imc = 72.7 * h - 58\n",
    "\n",
    "    print(\"Seu peso ideal é de \", imc, \"kg\")\n",
    "else:\n",
    "    print(\"Sexo indefinido\")\n"
   ]
  },
  {
   "attachments": {},
   "cell_type": "markdown",
   "metadata": {},
   "source": [
    "14 - João Papo-de-Pescador, homem de bem, comprou um microcomputador para controlar o rendimento diário de seu trabalho. Toda vez que ele traz um peso de peixes maior que o estabelecido pelo regulamento de pesca do estado de São Paulo (50 quilos) deve pagar uma multa de R$ 4,00 por quilo excedente. João precisa que você faça um programa que leia a variável peso (peso de peixes) e calcule o excesso. Gravar na variável excesso a quantidade de quilos além do limite e na variável multa o valor da multa que João deverá pagar. Imprima os dados do programa com as mensagens adequadas."
   ]
  },
  {
   "cell_type": "code",
   "execution_count": 31,
   "metadata": {},
   "outputs": [
    {
     "name": "stdout",
     "output_type": "stream",
     "text": [
      "PESO EXCEDICO! O senhor terá de pagar R$ 0.86  de multa.\n"
     ]
    }
   ],
   "source": [
    "peso = float(input(\"Olá Senhor João! Por favor, digite quantos quilos de peixe pescou: \"))\n",
    "\n",
    "excesso = peso - 50\n",
    "\n",
    "if excesso <= 0:\n",
    "    print(\"Fique em paz, hoje o senhor não pagará multa :)\")\n",
    "\n",
    "else:\n",
    "    multa = excesso * 4\n",
    "    print(\"PESO EXCEDICO! O senhor terá de pagar R$ %.2f\" %multa, \" de multa.\")"
   ]
  },
  {
   "attachments": {},
   "cell_type": "markdown",
   "metadata": {},
   "source": [
    "Faça um Programa que pergunte quanto você ganha por hora e o número de horas trabalhadas no mês. Calcule e mostre o total do seu salário no referido mês, sabendo-se que são descontados 11% para o Imposto de Renda, 8% para o INSS e 5% para o sindicato, faça um programa que nos dê:\n",
    "salário bruto.\n",
    "\n",
    "quanto pagou ao INSS.\n",
    "\n",
    "quanto pagou ao sindicato.\n",
    "\n",
    "o salário líquido.\n",
    "\n",
    "calcule os descontos e o salário líquido, conforme a tabela abaixo:\n",
    "\n",
    "\n",
    "+ Salário Bruto : R$\n",
    "\n",
    "- IR (11%) : R$\n",
    "\n",
    "- INSS (8%) : R$\n",
    "\n",
    "- Sindicato ( 5%) : R$\n",
    "\n",
    "= Salário Liquido : R$"
   ]
  },
  {
   "cell_type": "code",
   "execution_count": 34,
   "metadata": {},
   "outputs": [
    {
     "name": "stdout",
     "output_type": "stream",
     "text": [
      "Calculadora de salário\n",
      "Salário Bruto: R$ 4160.0\n",
      "Desconto IR: R$ 457.6\n",
      "Desconto INSS: R$ 332.8\n",
      "Desconto Sindicato: R$ 208.0\n",
      "Salário líquido: R$ 3161.6\n"
     ]
    }
   ],
   "source": [
    "print(\"Calculadora de salário\")\n",
    "\n",
    "valorHr = float(input(\"Quanto você ganha por hora?  R$\"))\n",
    "quantHr = float(input(\"Quantas horas trabalhou nesse mês? \"))\n",
    "\n",
    "salarioB = valorHr * quantHr\n",
    "\n",
    "ir = salarioB * 0.11\n",
    "inss = salarioB * 0.08\n",
    "sind = salarioB * 0.05\n",
    "\n",
    "salarioL = salarioB - ir - inss - sind\n",
    "\n",
    "print(\"Salário Bruto: R$\",salarioB)\n",
    "print(\"Desconto IR: R$\", ir)\n",
    "print(\"Desconto INSS: R$\", inss)\n",
    "print(\"Desconto Sindicato: R$\", sind)\n",
    "print(\"Salário líquido: R$\", salarioL)\n"
   ]
  },
  {
   "attachments": {},
   "cell_type": "markdown",
   "metadata": {},
   "source": [
    "16 - Faça um programa para uma loja de tintas. O programa deverá pedir o tamanho em metros quadrados da área a ser pintada. Considere que a cobertura da tinta é de 1 litro para cada 3 metros quadrados e que a tinta é vendida em latas de 18 litros, que custam R$ 80,00. Informe ao usuário a quantidades de latas de tinta a serem compradas e o preço total."
   ]
  },
  {
   "cell_type": "code",
   "execution_count": null,
   "metadata": {},
   "outputs": [],
   "source": []
  }
 ],
 "metadata": {
  "kernelspec": {
   "display_name": "Python 3",
   "language": "python",
   "name": "python3"
  },
  "language_info": {
   "codemirror_mode": {
    "name": "ipython",
    "version": 3
   },
   "file_extension": ".py",
   "mimetype": "text/x-python",
   "name": "python",
   "nbconvert_exporter": "python",
   "pygments_lexer": "ipython3",
   "version": "3.9.13"
  },
  "orig_nbformat": 4
 },
 "nbformat": 4,
 "nbformat_minor": 2
}
